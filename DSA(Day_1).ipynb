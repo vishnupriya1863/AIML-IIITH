{
  "nbformat": 4,
  "nbformat_minor": 0,
  "metadata": {
    "colab": {
      "provenance": [],
      "authorship_tag": "ABX9TyOOXMarStd8add1Kp7pp2ni",
      "include_colab_link": true
    },
    "kernelspec": {
      "name": "python3",
      "display_name": "Python 3"
    },
    "language_info": {
      "name": "python"
    }
  },
  "cells": [
    {
      "cell_type": "markdown",
      "metadata": {
        "id": "view-in-github",
        "colab_type": "text"
      },
      "source": [
        "<a href=\"https://colab.research.google.com/github/vishnupriya1863/AIML-IIITH/blob/main/DSA(Day_1).ipynb\" target=\"_parent\"><img src=\"https://colab.research.google.com/assets/colab-badge.svg\" alt=\"Open In Colab\"/></a>"
      ]
    },
    {
      "cell_type": "code",
      "execution_count": null,
      "metadata": {
        "colab": {
          "base_uri": "https://localhost:8080/"
        },
        "id": "Bqeis0xTjo6c",
        "outputId": "77aeb4a0-d542-426c-d6cd-487338766aa0"
      },
      "outputs": [
        {
          "output_type": "stream",
          "name": "stdout",
          "text": [
            "1\n"
          ]
        }
      ],
      "source": [
        "def fun():\n",
        "  print(1)\n",
        "fun()\n"
      ]
    },
    {
      "cell_type": "code",
      "source": [
        "class Person:\n",
        "  def __init__(self,name):\n",
        "    self.name=name\n",
        "\n",
        "  def sayhi(self):\n",
        "    print(self.name,\"says hi\")\n",
        "\n",
        "p=Person(\"sonu\")\n",
        "p.sayhi()"
      ],
      "metadata": {
        "colab": {
          "base_uri": "https://localhost:8080/"
        },
        "id": "wNto7ja4jxrb",
        "outputId": "fa2e68a0-9c17-4ad4-d16b-fc2ef8a71f6e"
      },
      "execution_count": null,
      "outputs": [
        {
          "output_type": "stream",
          "name": "stdout",
          "text": [
            "sonu says hi\n"
          ]
        }
      ]
    },
    {
      "cell_type": "markdown",
      "source": [
        "use of pass statement"
      ],
      "metadata": {
        "id": "bd8cBVE1lr4j"
      }
    },
    {
      "cell_type": "code",
      "source": [
        "def say():\n",
        "  pass\n",
        "say()"
      ],
      "metadata": {
        "id": "eeEp0-c5kdea"
      },
      "execution_count": null,
      "outputs": []
    },
    {
      "cell_type": "markdown",
      "source": [
        "return statement"
      ],
      "metadata": {
        "id": "MbWv5b1amnOp"
      }
    },
    {
      "cell_type": "code",
      "source": [
        "def fib(n):\n",
        "  a=0\n",
        "  b=1\n",
        "  c=0\n",
        "  for i in range(2,n+1):\n",
        "    c=a+b\n",
        "    a=b\n",
        "    b=c\n",
        "  return c\n",
        "fib(4)"
      ],
      "metadata": {
        "colab": {
          "base_uri": "https://localhost:8080/"
        },
        "id": "13NqEgp5mCP8",
        "outputId": "9f226941-e485-430b-d685-d8f017922de2"
      },
      "execution_count": null,
      "outputs": [
        {
          "output_type": "execute_result",
          "data": {
            "text/plain": [
              "3"
            ]
          },
          "metadata": {},
          "execution_count": 23
        }
      ]
    },
    {
      "cell_type": "code",
      "source": [],
      "metadata": {
        "id": "Lro8Vvhjmpv1"
      },
      "execution_count": null,
      "outputs": []
    }
  ]
}